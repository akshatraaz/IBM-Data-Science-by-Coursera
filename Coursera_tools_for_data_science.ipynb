{
 "cells": [
  {
   "cell_type": "markdown",
   "id": "5dd2c86b-5e2f-449e-8649-bc2972b1e6cb",
   "metadata": {},
   "source": [
    "My Jupyter Notebook On IBM Watson Studio"
   ]
  },
  {
   "cell_type": "markdown",
   "id": "c27c2ca2-6ec5-486e-a553-cea797f750e5",
   "metadata": {},
   "source": [
    "**Ravi Prakash**\n",
    "Data Scientist"
   ]
  },
  {
   "cell_type": "markdown",
   "id": "d52ecdc2-3cc9-4472-94fc-80ab06ee1562",
   "metadata": {},
   "source": [
    "*I am interested in data science because i love to research and analyse data.*\n",
    "*I love to do prediction and initiate them.*"
   ]
  },
  {
   "cell_type": "markdown",
   "id": "3305dcaf-68fe-411a-ad18-c106bc9b6594",
   "metadata": {},
   "source": [
    "Here I write some easy mathematical code with message."
   ]
  },
  {
   "cell_type": "code",
   "execution_count": 4,
   "id": "b6b947b4-5c6f-4a60-9308-505f78f92ac5",
   "metadata": {},
   "outputs": [
    {
     "name": "stdout",
     "output_type": "stream",
     "text": [
      "Hello World!\n",
      "8.0\n"
     ]
    }
   ],
   "source": [
    "print(\"Hello World!\")\n",
    "x= 4*4/2\n",
    "print(x)"
   ]
  },
  {
   "cell_type": "markdown",
   "id": "93cee587-97d3-407d-9bba-7965a26542bf",
   "metadata": {},
   "source": [
    "##bulleted List\n",
    "- This line incude Bullet\n",
    "    * This line include sub-bullet</br>\n",
    "##Strikethrough line </br>\n",
    "<s>This line in strikethrough formats</s></br>\n",
    "##Number List\n",
    "1. there is a  no system\n",
    "2. there is 2nd line in list\n",
    "\n",
    "##Horizontal Rule</br>\n",
    "\n",
    "We can create horizontal rule using following\n",
    "\n",
    "---\n",
    "\n",
    "===\n",
    "Upper 3 line is a horizontal line\n",
    "\n",
    "===\n",
    "</br>\n",
    " ##Blocked Quoted</br>\n",
    " > Here is the blocked quoted line. - Ravi Prakash </br>\n",
    " > Here you can write other quote.\n"
   ]
  },
  {
   "cell_type": "code",
   "execution_count": null,
   "id": "68104ea2-6263-4963-9192-a25c17cc5a3a",
   "metadata": {},
   "outputs": [],
   "source": []
  }
 ],
 "metadata": {
  "kernelspec": {
   "display_name": "Python",
   "language": "python",
   "name": "conda-env-python-py"
  },
  "language_info": {
   "codemirror_mode": {
    "name": "ipython",
    "version": 3
   },
   "file_extension": ".py",
   "mimetype": "text/x-python",
   "name": "python",
   "nbconvert_exporter": "python",
   "pygments_lexer": "ipython3",
   "version": "3.7.12"
  }
 },
 "nbformat": 4,
 "nbformat_minor": 5
}
